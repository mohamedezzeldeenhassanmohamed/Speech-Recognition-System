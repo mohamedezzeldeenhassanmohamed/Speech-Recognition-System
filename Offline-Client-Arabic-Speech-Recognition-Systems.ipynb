{
 "cells": [
  {
   "cell_type": "code",
   "execution_count": null,
   "id": "877bdd22",
   "metadata": {},
   "outputs": [],
   "source": [
    "def recognize_from_ar_audio(path):\n",
    "    \n",
    "    import socket\n",
    "\n",
    "    # set up a TCP/IP socket    \n",
    "    \n",
    "    sock = socket.socket(socket.AF_INET, socket.SOCK_STREAM)\n",
    "\n",
    "    # set up the server address and port    \n",
    "    \n",
    "    server_address = ('192.168.1.2', 9988)\n",
    "\n",
    "    # read the audio file    \n",
    "    \n",
    "    with open(path, 'rb') as f:\n",
    "        audio_data = f.read()\n",
    "\n",
    "    # connect to the server    \n",
    "    \n",
    "    sock.connect(server_address)\n",
    "\n",
    "    # send the audio data to the server    \n",
    "    \n",
    "    sock.sendall(audio_data)\n",
    "\n",
    "    # receive the response from the server    \n",
    "    \n",
    "    response = sock.recv(1024).decode('utf-8')\n",
    "\n",
    "    # close the connection    \n",
    "    \n",
    "    sock.close()\n",
    "\n",
    "    return response"
   ]
  }
 ],
 "metadata": {
  "kernelspec": {
   "display_name": "Python 3 (ipykernel)",
   "language": "python",
   "name": "python3"
  },
  "language_info": {
   "codemirror_mode": {
    "name": "ipython",
    "version": 3
   },
   "file_extension": ".py",
   "mimetype": "text/x-python",
   "name": "python",
   "nbconvert_exporter": "python",
   "pygments_lexer": "ipython3",
   "version": "3.9.15"
  }
 },
 "nbformat": 4,
 "nbformat_minor": 5
}
